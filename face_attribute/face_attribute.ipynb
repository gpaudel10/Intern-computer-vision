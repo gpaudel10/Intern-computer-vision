{
 "cells": [
  {
   "cell_type": "code",
   "execution_count": 1,
   "metadata": {},
   "outputs": [],
   "source": [
    "import torch\n",
    "import torch.nn as nn\n",
    "import torch.optim as optim\n",
    "from torchvision.datasets import ImageFolder\n",
    "from torchvision.transforms import transforms\n",
    "from torch.utils.data import DataLoader\n",
    "import torchvision\n",
    "from torchvision import models"
   ]
  },
  {
   "cell_type": "code",
   "execution_count": 2,
   "metadata": {},
   "outputs": [],
   "source": [
    "transform = transforms.Compose([\n",
    "    transforms.Resize((128, 128)),\n",
    "    transforms.ToTensor(),\n",
    "    transforms.Normalize(mean=[0.485, 0.456, 0.406], std=[0.229, 0.224, 0.225]) \n",
    "])"
   ]
  },
  {
   "cell_type": "code",
   "execution_count": 3,
   "metadata": {},
   "outputs": [],
   "source": [
    "train_path = '/home/gpaudel/Documents/DL/eg/splited/train'\n",
    "test_path = '/home/gpaudel/Documents/DL/eg/splited/val'"
   ]
  },
  {
   "cell_type": "code",
   "execution_count": 4,
   "metadata": {},
   "outputs": [],
   "source": [
    "train_dataset = ImageFolder(train_path, transform=transform)\n",
    "test_dataset = ImageFolder(test_path, transform=transform)"
   ]
  },
  {
   "cell_type": "code",
   "execution_count": 5,
   "metadata": {},
   "outputs": [],
   "source": [
    "train_loader = DataLoader(train_dataset, batch_size=16, shuffle=True)\n",
    "test_loader = DataLoader(test_dataset, batch_size=16, shuffle=False)"
   ]
  },
  {
   "cell_type": "code",
   "execution_count": 10,
   "metadata": {},
   "outputs": [],
   "source": [
    "class ConvNet(nn.Module):\n",
    "     def __init__(self):\n",
    "         super(ConvNet, self).__init__()\n",
    "        \n",
    "         self.conv1 = nn.Conv2d(3, 16, kernel_size=3, stride=1, padding=1)\n",
    "         self.relu1 = nn.ReLU()\n",
    "         self.pool1 = nn.MaxPool2d(kernel_size=2, stride=2)\n",
    "        \n",
    "         self.conv2 = nn.Conv2d(16, 32, kernel_size=3, stride=1, padding=1)\n",
    "         self.relu2 = nn.ReLU()\n",
    "         self.pool2 = nn.MaxPool2d(kernel_size=2, stride=2)\n",
    "        \n",
    "         self.conv3 = nn.Conv2d(32, 64, kernel_size=3, stride=1, padding=1)\n",
    "         self.relu3 = nn.ReLU()\n",
    "         self.pool3 = nn.MaxPool2d(kernel_size=2, stride=2)\n",
    "        \n",
    "         self.fc1 = nn.Linear(64 * 16 * 16, 128)\n",
    "         self.relu4 = nn.ReLU()\n",
    "        \n",
    "         self.fc2 = nn.Linear(128, 5)  \n",
    "        \n",
    "     def forward(self, op):\n",
    "         op = self.pool1(self.relu1(self.conv1(op)))\n",
    "         op = self.pool2(self.relu2(self.conv2(op)))\n",
    "         op = self.pool3(self.relu3(self.conv3(op)))\n",
    "         op = op.view(op.size(0), -1)\n",
    "         op = self.relu4(self.fc1(op))\n",
    "         op = self.fc2(op)\n",
    "         return op\n",
    "\n",
    "model = ConvNet()\n",
    "def save_checkpoint(state,filename = \"myfirstcheckpoint.pth\"):\n",
    "     torch.save(state, filename)\n",
    "     \n",
    "def load_checkpoint(checkpoint):\n",
    "     model.load_state_dict(checkpoint['state_dict'])"
   ]
  },
  {
   "cell_type": "code",
   "execution_count": 7,
   "metadata": {},
   "outputs": [
    {
     "name": "stdout",
     "output_type": "stream",
     "text": [
      "ConvNet(\n",
      "  (conv1): Conv2d(3, 16, kernel_size=(3, 3), stride=(1, 1), padding=(1, 1))\n",
      "  (relu1): ReLU()\n",
      "  (pool1): MaxPool2d(kernel_size=2, stride=2, padding=0, dilation=1, ceil_mode=False)\n",
      "  (conv2): Conv2d(16, 32, kernel_size=(3, 3), stride=(1, 1), padding=(1, 1))\n",
      "  (relu2): ReLU()\n",
      "  (pool2): MaxPool2d(kernel_size=2, stride=2, padding=0, dilation=1, ceil_mode=False)\n",
      "  (conv3): Conv2d(32, 64, kernel_size=(3, 3), stride=(1, 1), padding=(1, 1))\n",
      "  (relu3): ReLU()\n",
      "  (pool3): MaxPool2d(kernel_size=2, stride=2, padding=0, dilation=1, ceil_mode=False)\n",
      "  (fc1): Linear(in_features=16384, out_features=128, bias=True)\n",
      "  (relu4): ReLU()\n",
      "  (fc2): Linear(in_features=128, out_features=5, bias=True)\n",
      ")\n"
     ]
    }
   ],
   "source": [
    "print(model)"
   ]
  },
  {
   "cell_type": "code",
   "execution_count": 11,
   "metadata": {},
   "outputs": [],
   "source": [
    "# model = ConvNet()\n",
    "loss_function = nn.CrossEntropyLoss()\n",
    "optimizer = optim.Adam(model.parameters(), lr=0.001)"
   ]
  },
  {
   "cell_type": "code",
   "execution_count": 13,
   "metadata": {},
   "outputs": [
    {
     "name": "stdout",
     "output_type": "stream",
     "text": [
      "epoch [1/10], train loss is: 1.1439, train accuracy is: 54.07%, test accuracy: 67.92%\n",
      "epoch [2/10], train loss is: 0.7431, train accuracy is: 72.79%, test accuracy: 68.32%\n",
      "epoch [3/10], train loss is: 0.5416, train accuracy is: 80.77%, test accuracy: 77.82%\n",
      "epoch [4/10], train loss is: 0.3835, train accuracy is: 86.95%, test accuracy: 76.24%\n",
      "epoch [5/10], train loss is: 0.2364, train accuracy is: 91.79%, test accuracy: 75.64%\n",
      "epoch [6/10], train loss is: 0.1404, train accuracy is: 95.42%, test accuracy: 76.24%\n",
      "epoch [7/10], train loss is: 0.0753, train accuracy is: 97.39%, test accuracy: 75.05%\n",
      "epoch [8/10], train loss is: 0.0551, train accuracy is: 98.30%, test accuracy: 74.46%\n",
      "epoch [9/10], train loss is: 0.0401, train accuracy is: 98.61%, test accuracy: 76.04%\n",
      "epoch [10/10], train loss is: 0.0403, train accuracy is: 98.52%, test accuracy: 74.65%\n"
     ]
    }
   ],
   "source": [
    "device = torch.device(\"cuda\" if torch.cuda.is_available() else \"cpu\")\n",
    "model.to(device)\n",
    "\n",
    "best_accuracy = 0.0\n",
    "best_epoch = 0\n",
    "\n",
    "num_epochs = 10\n",
    "# load_model = True\n",
    "# load_model(torch.load(\"myfirstcheckpoint.pth\"))\n",
    "\n",
    "for epoch in range(num_epochs):\n",
    "    model.train()\n",
    "    train_loss = 0.0\n",
    "    train_correct = 0\n",
    "    if epoch == 5:\n",
    "        checkpoint = {'state_dict': model.state_dict()}\n",
    "        save_checkpoint(checkpoint)\n",
    "    \n",
    "    for images, labels in train_loader:\n",
    "        outputs = model(images)\n",
    "        loss = loss_function(outputs, labels)\n",
    "        \n",
    "        optimizer.zero_grad()\n",
    "        loss.backward()\n",
    "        optimizer.step()\n",
    "        \n",
    "        train_loss += loss.item()\n",
    "        _, predicted = torch.max(outputs.data, 1)\n",
    "        train_correct += (predicted == labels).sum().item()\n",
    "\n",
    "    train_loss /= len(train_loader)\n",
    "    train_accuracy = 100.0 * train_correct / len(train_dataset)\n",
    "    # train_accuracy = train_correct / train_dataset\n",
    "\n",
    "    \n",
    "    model.eval()\n",
    "    test_correct = 0\n",
    "\n",
    "    with torch.no_grad():\n",
    "        for images, labels in test_loader:\n",
    "            outputs = model(images)\n",
    "            _, predicted = torch.max(outputs.data, 1)\n",
    "            test_correct += (predicted == labels).sum().item()\n",
    "\n",
    "    test_accuracy = 100.0 * test_correct / len(test_dataset)\n",
    "    # test_accuracy = test_correct / test_dataset\n",
    "\n",
    "   \n",
    "    print(f\"epoch [{epoch + 1}/{num_epochs}], train loss is: {train_loss:.4f}, train accuracy is: {train_accuracy:.2f}%, test accuracy: {test_accuracy:.2f}%\")\n"
   ]
  },
  {
   "cell_type": "code",
   "execution_count": null,
   "metadata": {},
   "outputs": [],
   "source": []
  }
 ],
 "metadata": {
  "kernelspec": {
   "display_name": "dl1",
   "language": "python",
   "name": "python3"
  },
  "language_info": {
   "codemirror_mode": {
    "name": "ipython",
    "version": 3
   },
   "file_extension": ".py",
   "mimetype": "text/x-python",
   "name": "python",
   "nbconvert_exporter": "python",
   "pygments_lexer": "ipython3",
   "version": "3.11.3"
  },
  "orig_nbformat": 4
 },
 "nbformat": 4,
 "nbformat_minor": 2
}
